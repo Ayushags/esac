{
  "nbformat": 4,
  "nbformat_minor": 0,
  "metadata": {
    "colab": {
      "name": "ES_atari.ipynb",
      "provenance": [],
      "collapsed_sections": []
    },
    "kernelspec": {
      "name": "python3",
      "display_name": "Python 3"
    },
    "language_info": {
      "codemirror_mode": {
        "name": "ipython",
        "version": 3
      },
      "file_extension": ".py",
      "mimetype": "text/x-python",
      "name": "python",
      "nbconvert_exporter": "python",
      "pygments_lexer": "ipython3",
      "version": "3.7.3"
    }
  },
  "cells": [
    {
      "cell_type": "markdown",
      "metadata": {
        "colab_type": "text",
        "id": "1fOCbFmi08ua"
      },
      "source": [
        "<h1><center> Playing Atari using Evolution Strategies </center></h1>\n"
      ]
    },
    {
      "cell_type": "markdown",
      "metadata": {
        "colab_type": "text",
        "id": "y8hU4S5308ue"
      },
      "source": [
        "## 1. Import Dependencies\n"
      ]
    },
    {
      "cell_type": "code",
      "metadata": {
        "colab_type": "code",
        "id": "buWMBu3PhvqU",
        "outputId": "d660fc24-841b-4c92-b472-2d063840ad1e",
        "colab": {
          "base_uri": "https://localhost:8080/",
          "height": 419
        }
      },
      "source": [
        "from google.colab import drive\n",
        "user_name = '/content/drive'\n",
        "drive.mount(user_name, force_remount=True)\n",
        "# !lscpu\n",
        "from __future__ import absolute_import, division, print_function\n",
        "# !pip install torch\n",
        "!pip install gym\n",
        "!pip install gym[atari]\n",
        "import math, random\n",
        "import time\n",
        "import argparse\n",
        "import copy\n",
        "from multiprocessing import Pool\n",
        "# from multiprocessing.pool import ThreadPool\n",
        "from functools import partial\n",
        "import gym\n",
        "import numpy as np\n",
        "import pickle as pkl\n",
        "from matplotlib.image import imsave\n",
        "import torch\n",
        "import torch.nn as nn\n",
        "import torch.optim as optim\n",
        "import torch.autograd as autograd \n",
        "import torch.nn.functional as F\n",
        "from collections import deque\n",
        "import matplotlib.pyplot as plt\n",
        "\n",
        "checkpoint_name = '/content/drive/My Drive/Colab Notebooks/Checkpoint/'\n",
        "\n",
        "USE_CUDA = False\n",
        "device = torch.device('cuda' if USE_CUDA else 'cpu')\n",
        "Variable = lambda *args, **kwargs: autograd.Variable(*args, **kwargs).cuda() if USE_CUDA else autograd.Variable(*args, **kwargs)"
      ],
      "execution_count": 0,
      "outputs": [
        {
          "output_type": "stream",
          "text": [
            "Go to this URL in a browser: https://accounts.google.com/o/oauth2/auth?client_id=947318989803-6bn6qk8qdgf4n4g3pfee6491hc0brc4i.apps.googleusercontent.com&redirect_uri=urn%3aietf%3awg%3aoauth%3a2.0%3aoob&response_type=code&scope=email%20https%3a%2f%2fwww.googleapis.com%2fauth%2fdocs.test%20https%3a%2f%2fwww.googleapis.com%2fauth%2fdrive%20https%3a%2f%2fwww.googleapis.com%2fauth%2fdrive.photos.readonly%20https%3a%2f%2fwww.googleapis.com%2fauth%2fpeopleapi.readonly\n",
            "\n",
            "Enter your authorization code:\n",
            "··········\n",
            "Mounted at /content/drive\n",
            "Requirement already satisfied: gym in /usr/local/lib/python3.6/dist-packages (0.17.1)\n",
            "Requirement already satisfied: pyglet<=1.5.0,>=1.4.0 in /usr/local/lib/python3.6/dist-packages (from gym) (1.5.0)\n",
            "Requirement already satisfied: six in /usr/local/lib/python3.6/dist-packages (from gym) (1.12.0)\n",
            "Requirement already satisfied: scipy in /usr/local/lib/python3.6/dist-packages (from gym) (1.4.1)\n",
            "Requirement already satisfied: numpy>=1.10.4 in /usr/local/lib/python3.6/dist-packages (from gym) (1.18.2)\n",
            "Requirement already satisfied: cloudpickle<1.4.0,>=1.2.0 in /usr/local/lib/python3.6/dist-packages (from gym) (1.3.0)\n",
            "Requirement already satisfied: future in /usr/local/lib/python3.6/dist-packages (from pyglet<=1.5.0,>=1.4.0->gym) (0.16.0)\n",
            "Requirement already satisfied: gym[atari] in /usr/local/lib/python3.6/dist-packages (0.17.1)\n",
            "Requirement already satisfied: cloudpickle<1.4.0,>=1.2.0 in /usr/local/lib/python3.6/dist-packages (from gym[atari]) (1.3.0)\n",
            "Requirement already satisfied: six in /usr/local/lib/python3.6/dist-packages (from gym[atari]) (1.12.0)\n",
            "Requirement already satisfied: numpy>=1.10.4 in /usr/local/lib/python3.6/dist-packages (from gym[atari]) (1.18.2)\n",
            "Requirement already satisfied: pyglet<=1.5.0,>=1.4.0 in /usr/local/lib/python3.6/dist-packages (from gym[atari]) (1.5.0)\n",
            "Requirement already satisfied: scipy in /usr/local/lib/python3.6/dist-packages (from gym[atari]) (1.4.1)\n",
            "Requirement already satisfied: opencv-python; extra == \"atari\" in /usr/local/lib/python3.6/dist-packages (from gym[atari]) (4.1.2.30)\n",
            "Requirement already satisfied: atari-py~=0.2.0; extra == \"atari\" in /usr/local/lib/python3.6/dist-packages (from gym[atari]) (0.2.6)\n",
            "Requirement already satisfied: Pillow; extra == \"atari\" in /usr/local/lib/python3.6/dist-packages (from gym[atari]) (7.0.0)\n",
            "Requirement already satisfied: future in /usr/local/lib/python3.6/dist-packages (from pyglet<=1.5.0,>=1.4.0->gym[atari]) (0.16.0)\n"
          ],
          "name": "stdout"
        }
      ]
    },
    {
      "cell_type": "markdown",
      "metadata": {
        "colab_type": "text",
        "id": "62A_iOxVVa3o"
      },
      "source": [
        "## 2. Evolution Strategies"
      ]
    },
    {
      "cell_type": "code",
      "metadata": {
        "colab_type": "code",
        "id": "ICs9bZPDVOym",
        "colab": {}
      },
      "source": [
        "def get_reward(weights, model, render=False):\n",
        "    cloned_model = copy.deepcopy(model)\n",
        "    for i, param in enumerate(cloned_model.parameters()):\n",
        "        try:\n",
        "            param.data.copy_(weights[i])\n",
        "        except:\n",
        "            param.data.copy_(weights[i].data)\n",
        "\n",
        "    ob, env = process_atari(env_id)\n",
        "    done = False\n",
        "    total_reward = 0\n",
        "    while not done:\n",
        "        batch = torch.FloatTensor(ob[np.newaxis,...]).to(device)\n",
        "        prediction = cloned_model(Variable(batch))\n",
        "        action = prediction.cpu().data.numpy().argmax()\n",
        "        new_ob, reward, done, _ = env.step(action)\n",
        "        new_ob = env.unwrapped._get_ram()\n",
        "        ob = new_ob\n",
        "\n",
        "        total_reward += reward \n",
        "\n",
        "    env.close()\n",
        "    return total_reward\n",
        "\n",
        "def weights_init(m):\n",
        "    classname = m.__class__.__name__\n",
        "    if classname.find('Linear') != -1:\n",
        "        m.weight.data.normal_(0.0, 0.02)\n",
        "\n",
        "class EvolutionModule:\n",
        "\n",
        "    def __init__(\n",
        "        self, \n",
        "        weights, \n",
        "        reward_func,\n",
        "        population_size=50,\n",
        "        sigma=0.1,\n",
        "        learning_rate=0.001,\n",
        "        decay=1.0,\n",
        "        sigma_decay=1.0,\n",
        "        threadcount=4,\n",
        "        render_test=False,\n",
        "        cuda=False,\n",
        "        reward_goal=None,\n",
        "        consecutive_goal_stopping=None,\n",
        "        save_path=None\n",
        "    ):\n",
        "        np.random.seed(int(time.time()))\n",
        "        self.weights = weights\n",
        "        self.reward_function = reward_func\n",
        "        self.POPULATION_SIZE = population_size\n",
        "        self.SIGMA = sigma\n",
        "        self.LEARNING_RATE = learning_rate\n",
        "        self.cuda = cuda\n",
        "        self.decay = decay\n",
        "        self.sigma_decay = sigma_decay\n",
        "        self.pool = Pool(threadcount) #Thread\n",
        "        self.render_test = render_test\n",
        "        self.reward_goal = reward_goal\n",
        "        self.consecutive_goal_stopping = consecutive_goal_stopping\n",
        "        self.consecutive_goal_count = 0\n",
        "        self.save_path = save_path\n",
        "        self.max_rewards = []\n",
        "        self.min_rewards = []\n",
        "        self.avg_rewards = []\n",
        "\n",
        "\n",
        "    def jitter_weights(self, weights, population=[], no_jitter=False):\n",
        "        new_weights = []\n",
        "        for i, param in enumerate(weights):\n",
        "            if no_jitter:\n",
        "                new_weights.append(param.to(device).detach()) #.data\n",
        "            else:\n",
        "                jittered = torch.FloatTensor(self.SIGMA * population[i]).detach()\n",
        "                jittered = jittered.to(device).detach()\n",
        "                new_weights.append(param.to(device).detach() + jittered) #.data\n",
        "        return new_weights\n",
        "\n",
        "\n",
        "    def run(self, iterations, print_step=100):\n",
        "        for iteration in range(iterations):\n",
        "            torch.cuda.empty_cache()\n",
        "            population = []\n",
        "            for _ in range(self.POPULATION_SIZE):\n",
        "                x = []\n",
        "                for param in self.weights:\n",
        "                    x.append(np.random.randn(*param.data.size()))\n",
        "                population.append(x)\n",
        "\n",
        "            rewards = self.pool.map(\n",
        "                self.reward_function, \n",
        "                [self.jitter_weights(copy.deepcopy(self.weights), population=pop) for pop in population]\n",
        "            )\n",
        "            self.max_rewards.append(max(rewards))\n",
        "            self.min_rewards.append(min(rewards))\n",
        "            self.avg_rewards.append(np.mean(rewards))\n",
        "            if np.std(rewards) != 0:\n",
        "                normalized_rewards = (rewards - np.mean(rewards)) / np.std(rewards)\n",
        "                for index, param in enumerate(self.weights):\n",
        "                    A = np.array([p[index] for p in population])\n",
        "                    rewards_pop = torch.FloatTensor(np.dot(A.T, normalized_rewards).T).to(device)\n",
        "                    param = param.to(device)\n",
        "                    param = param + self.LEARNING_RATE / (self.POPULATION_SIZE * self.SIGMA) * rewards_pop\n",
        "\n",
        "                    self.LEARNING_RATE *= self.decay\n",
        "                    self.SIGMA *= self.sigma_decay\n",
        "\n",
        "            test_reward = self.reward_function(\n",
        "                self.jitter_weights(copy.deepcopy(self.weights), no_jitter=True), render=self.render_test\n",
        "            )\n",
        "            if (iteration+1) % print_step == 0:\n",
        "                print('iter %d. reward: %f' % (iteration+1, test_reward))\n",
        "                if self.save_path:\n",
        "                    pickle.dump(self.weights, open(self.save_path+'weights.pkl', 'wb'))\n",
        "                \n",
        "                if self.reward_goal and self.consecutive_goal_stopping:\n",
        "                    if test_reward >= self.reward_goal:\n",
        "                        self.consecutive_goal_count += 1\n",
        "                    else:\n",
        "                        self.consecutive_goal_count = 0\n",
        "\n",
        "                    if self.consecutive_goal_count >= self.consecutive_goal_stopping:\n",
        "                        return self.weights\n",
        "        return self.weights, self.max_rewards,self.min_rewards,self.avg_rewards"
      ],
      "execution_count": 0,
      "outputs": []
    },
    {
      "cell_type": "markdown",
      "metadata": {
        "colab_type": "text",
        "id": "s3hQs5QYMxGD"
      },
      "source": [
        "## 3. ConvNet Model"
      ]
    },
    {
      "cell_type": "code",
      "metadata": {
        "colab_type": "code",
        "id": "pwWh3vRWM0PJ",
        "colab": {}
      },
      "source": [
        "class CnnDQN(nn.Module):\n",
        "    def __init__(self, input_shape, num_actions):\n",
        "        super(CnnDQN, self).__init__()\n",
        "        \n",
        "        self.input_shape = input_shape\n",
        "        self.num_actions = num_actions\n",
        "        \n",
        "        self.features = nn.Sequential(\n",
        "            nn.Conv2d(input_shape[0], 32, kernel_size=8, stride=4),\n",
        "            nn.ReLU(),\n",
        "            nn.Conv2d(32, 64, kernel_size=4, stride=2),\n",
        "            nn.ReLU(),\n",
        "            nn.Conv2d(64, 64, kernel_size=3, stride=1),\n",
        "            nn.ReLU()\n",
        "        )\n",
        "        \n",
        "        self.fc = nn.Sequential(\n",
        "            nn.Linear(self.feature_size(), 512),\n",
        "            nn.ReLU(),\n",
        "            nn.Linear(512, self.num_actions)\n",
        "        )\n",
        "        \n",
        "    def forward(self, x):\n",
        "        x   = Variable(torch.FloatTensor(x).unsqueeze(0), volatile=True)\n",
        "        x = self.features(x)\n",
        "        x = x.view(x.size(0), -1)\n",
        "        x = self.fc(x)\n",
        "        return x\n",
        "    \n",
        "    def feature_size(self):\n",
        "        return self.features(autograd.Variable(torch.zeros(1, *self.input_shape))).view(1, -1).size(1)\n",
        "    "
      ],
      "execution_count": 0,
      "outputs": []
    },
    {
      "cell_type": "markdown",
      "metadata": {
        "colab_type": "text",
        "id": "_4nnTYob08vC"
      },
      "source": [
        "## 4. Initialize Learning\n"
      ]
    },
    {
      "cell_type": "code",
      "metadata": {
        "colab_type": "code",
        "id": "7TEINiFzlEpb",
        "colab": {}
      },
      "source": [
        "def process_atari(env_id, atari=False):\n",
        "    if atari:\n",
        "      env    = make_atari(env_id)\n",
        "      env    = wrap_deepmind(env)\n",
        "      env    = wrap_pytorch(env)\n",
        "      state = env.reset()\n",
        "      action = 1\n",
        "      next_state, reward, done, _ = env.step(action)\n",
        "      for _ in range(3):\n",
        "          state = np.concatenate((state,next_state),0)\n",
        "    else:\n",
        "      env = gym.make(env_id)\n",
        "      state = env.reset()\n",
        "      state = env.unwrapped._get_ram()\n",
        "    return state, env\n",
        "\n",
        "\n",
        "sigma = 1\n",
        "es_learning_rate = 0.0001\n",
        "es_decay = 0.9999\n",
        "threads = 2\n",
        "goal = 300\n",
        "stop = 10\n",
        "es_steps = 1000\n",
        "\n",
        "hyper_epochs = 50\n",
        "pop_size = 2\n",
        "batch_size = 32\n",
        "gamma      = 0.99\n",
        "epsilon = 0.10\n",
        "replay_initial = 32\n",
        "wta_steps = 5000\n",
        "losses = []\n",
        "rewards = []\n",
        "\n",
        "env_id = \"Breakout-v0\"\n",
        "state, env = process_atari(env_id)\n",
        "\n",
        "# model = CnnDQN((4,84,84), env.action_space.n).to(device)\n",
        "\n",
        "# os.sched_setaffinity(os.getpid(), {0})\n",
        "# os.system(\"taskset -p 0xffffffff %d\" % os.getpid())\n",
        "model = nn.Sequential(\n",
        "    nn.Linear(128, 32),\n",
        "    nn.Tanh(),\n",
        "    nn.Linear(32,16),\n",
        "    nn.Tanh(),\n",
        "    nn.Linear(16,8),\n",
        "    nn.Tanh(),\n",
        "    nn.Linear(8, env.action_space.n),\n",
        ").to(device)    \n",
        "\n",
        "# os.sched_setaffinity(os.getpid(), {0})\n",
        "\n",
        "# print(os.sched_getaffinity(os.getpid()))\n"
      ],
      "execution_count": 0,
      "outputs": []
    },
    {
      "cell_type": "markdown",
      "metadata": {
        "id": "sDvGeFVHa433",
        "colab_type": "text"
      },
      "source": [
        "## 5. Learning Loop"
      ]
    },
    {
      "cell_type": "code",
      "metadata": {
        "id": "Z9gBzaUNatHP",
        "colab_type": "code",
        "outputId": "9be03111-b1b7-41f4-a808-ff6c9c16e32a",
        "colab": {
          "base_uri": "https://localhost:8080/",
          "height": 1000
        }
      },
      "source": [
        "partial_func = partial(get_reward, model=model)\n",
        "mother_parameters = list(model.parameters())\n",
        "\n",
        "start_time = time.time()\n",
        "\n",
        "es = EvolutionModule(\n",
        "    mother_parameters, partial_func, population_size=pop_size, sigma=sigma, \n",
        "    learning_rate=es_learning_rate, decay = es_decay, threadcount=threads, cuda=True, reward_goal=goal,\n",
        "    consecutive_goal_stopping=stop)\n",
        "final_weights,max_rewards,min_rewards,avg_rewards = es.run(es_steps, print_step=10)\n",
        "\n",
        "end_time = time.time()\n",
        "\n",
        "data_save = {}\n",
        "data_save['time'] = [start_time,end_time]\n",
        "data_save['max_rewards'] = max_rewards\n",
        "data_save['min_reward'] = min_rewards\n",
        "data_save['avg_reward'] = avg_rewards\n",
        "\n",
        "with open(checkpoint_name+'data.pkl', 'wb') as f:\n",
        "    pkl.dump(data_save, f)\n",
        "\n",
        "with open(checkpoint_name+'weights.pkl', 'wb') as f:\n",
        "    pkl.dump(final_weights, f)"
      ],
      "execution_count": 0,
      "outputs": [
        {
          "output_type": "stream",
          "text": [
            "iter 10. reward: 0.000000\n",
            "iter 20. reward: 0.000000\n",
            "iter 30. reward: 0.000000\n",
            "iter 40. reward: 0.000000\n",
            "iter 50. reward: 0.000000\n",
            "iter 60. reward: 0.000000\n",
            "iter 70. reward: 0.000000\n",
            "iter 80. reward: 0.000000\n",
            "iter 90. reward: 0.000000\n",
            "iter 100. reward: 0.000000\n",
            "iter 110. reward: 0.000000\n",
            "iter 120. reward: 0.000000\n",
            "iter 130. reward: 0.000000\n",
            "iter 140. reward: 0.000000\n",
            "iter 150. reward: 0.000000\n",
            "iter 160. reward: 0.000000\n",
            "iter 170. reward: 0.000000\n",
            "iter 180. reward: 0.000000\n",
            "iter 190. reward: 0.000000\n",
            "iter 200. reward: 0.000000\n",
            "iter 210. reward: 0.000000\n",
            "iter 220. reward: 0.000000\n",
            "iter 230. reward: 0.000000\n",
            "iter 240. reward: 0.000000\n",
            "iter 250. reward: 0.000000\n",
            "iter 260. reward: 0.000000\n",
            "iter 270. reward: 0.000000\n",
            "iter 280. reward: 0.000000\n",
            "iter 290. reward: 0.000000\n",
            "iter 300. reward: 0.000000\n",
            "iter 310. reward: 0.000000\n",
            "iter 320. reward: 0.000000\n",
            "iter 330. reward: 0.000000\n"
          ],
          "name": "stdout"
        },
        {
          "output_type": "stream",
          "text": [
            "Process ForkPoolWorker-24:\n",
            "Process ForkPoolWorker-23:\n",
            "Traceback (most recent call last):\n",
            "Traceback (most recent call last):\n",
            "  File \"/usr/lib/python3.6/multiprocessing/process.py\", line 258, in _bootstrap\n",
            "    self.run()\n",
            "  File \"/usr/lib/python3.6/multiprocessing/process.py\", line 93, in run\n",
            "    self._target(*self._args, **self._kwargs)\n",
            "  File \"/usr/lib/python3.6/multiprocessing/pool.py\", line 108, in worker\n",
            "    task = get()\n",
            "  File \"/usr/lib/python3.6/multiprocessing/process.py\", line 258, in _bootstrap\n",
            "    self.run()\n",
            "  File \"/usr/lib/python3.6/multiprocessing/process.py\", line 93, in run\n",
            "    self._target(*self._args, **self._kwargs)\n",
            "  File \"/usr/lib/python3.6/multiprocessing/pool.py\", line 108, in worker\n",
            "    task = get()\n",
            "  File \"/usr/lib/python3.6/multiprocessing/queues.py\", line 335, in get\n",
            "    res = self._reader.recv_bytes()\n",
            "  File \"/usr/lib/python3.6/multiprocessing/queues.py\", line 334, in get\n",
            "    with self._rlock:\n",
            "  File \"/usr/lib/python3.6/multiprocessing/synchronize.py\", line 95, in __enter__\n",
            "    return self._semlock.__enter__()\n",
            "  File \"/usr/lib/python3.6/multiprocessing/connection.py\", line 216, in recv_bytes\n",
            "    buf = self._recv_bytes(maxlength)\n",
            "KeyboardInterrupt\n",
            "  File \"/usr/lib/python3.6/multiprocessing/connection.py\", line 407, in _recv_bytes\n",
            "    buf = self._recv(4)\n",
            "  File \"/usr/lib/python3.6/multiprocessing/connection.py\", line 379, in _recv\n",
            "    chunk = read(handle, remaining)\n",
            "KeyboardInterrupt\n"
          ],
          "name": "stderr"
        },
        {
          "output_type": "error",
          "ename": "KeyboardInterrupt",
          "evalue": "ignored",
          "traceback": [
            "\u001b[0;31m---------------------------------------------------------------------------\u001b[0m",
            "\u001b[0;31mKeyboardInterrupt\u001b[0m                         Traceback (most recent call last)",
            "\u001b[0;32m<ipython-input-27-6f845005d7e5>\u001b[0m in \u001b[0;36m<module>\u001b[0;34m()\u001b[0m\n\u001b[1;32m      8\u001b[0m     \u001b[0mlearning_rate\u001b[0m\u001b[0;34m=\u001b[0m\u001b[0mes_learning_rate\u001b[0m\u001b[0;34m,\u001b[0m \u001b[0mdecay\u001b[0m \u001b[0;34m=\u001b[0m \u001b[0mes_decay\u001b[0m\u001b[0;34m,\u001b[0m \u001b[0mthreadcount\u001b[0m\u001b[0;34m=\u001b[0m\u001b[0mthreads\u001b[0m\u001b[0;34m,\u001b[0m \u001b[0mcuda\u001b[0m\u001b[0;34m=\u001b[0m\u001b[0;32mTrue\u001b[0m\u001b[0;34m,\u001b[0m \u001b[0mreward_goal\u001b[0m\u001b[0;34m=\u001b[0m\u001b[0mgoal\u001b[0m\u001b[0;34m,\u001b[0m\u001b[0;34m\u001b[0m\u001b[0;34m\u001b[0m\u001b[0m\n\u001b[1;32m      9\u001b[0m     consecutive_goal_stopping=stop)\n\u001b[0;32m---> 10\u001b[0;31m \u001b[0mfinal_weights\u001b[0m\u001b[0;34m,\u001b[0m\u001b[0mmax_rewards\u001b[0m\u001b[0;34m,\u001b[0m\u001b[0mmin_rewards\u001b[0m\u001b[0;34m,\u001b[0m\u001b[0mavg_rewards\u001b[0m \u001b[0;34m=\u001b[0m \u001b[0mes\u001b[0m\u001b[0;34m.\u001b[0m\u001b[0mrun\u001b[0m\u001b[0;34m(\u001b[0m\u001b[0mes_steps\u001b[0m\u001b[0;34m,\u001b[0m \u001b[0mprint_step\u001b[0m\u001b[0;34m=\u001b[0m\u001b[0;36m10\u001b[0m\u001b[0;34m)\u001b[0m\u001b[0;34m\u001b[0m\u001b[0;34m\u001b[0m\u001b[0m\n\u001b[0m\u001b[1;32m     11\u001b[0m \u001b[0;34m\u001b[0m\u001b[0m\n\u001b[1;32m     12\u001b[0m \u001b[0mend_time\u001b[0m \u001b[0;34m=\u001b[0m \u001b[0mtime\u001b[0m\u001b[0;34m.\u001b[0m\u001b[0mtime\u001b[0m\u001b[0;34m(\u001b[0m\u001b[0;34m)\u001b[0m\u001b[0;34m\u001b[0m\u001b[0;34m\u001b[0m\u001b[0m\n",
            "\u001b[0;32m<ipython-input-24-2929c47a2b8c>\u001b[0m in \u001b[0;36mrun\u001b[0;34m(self, iterations, print_step)\u001b[0m\n\u001b[1;32m    107\u001b[0m \u001b[0;34m\u001b[0m\u001b[0m\n\u001b[1;32m    108\u001b[0m             test_reward = self.reward_function(\n\u001b[0;32m--> 109\u001b[0;31m                 \u001b[0mself\u001b[0m\u001b[0;34m.\u001b[0m\u001b[0mjitter_weights\u001b[0m\u001b[0;34m(\u001b[0m\u001b[0mcopy\u001b[0m\u001b[0;34m.\u001b[0m\u001b[0mdeepcopy\u001b[0m\u001b[0;34m(\u001b[0m\u001b[0mself\u001b[0m\u001b[0;34m.\u001b[0m\u001b[0mweights\u001b[0m\u001b[0;34m)\u001b[0m\u001b[0;34m,\u001b[0m \u001b[0mno_jitter\u001b[0m\u001b[0;34m=\u001b[0m\u001b[0;32mTrue\u001b[0m\u001b[0;34m)\u001b[0m\u001b[0;34m,\u001b[0m \u001b[0mrender\u001b[0m\u001b[0;34m=\u001b[0m\u001b[0mself\u001b[0m\u001b[0;34m.\u001b[0m\u001b[0mrender_test\u001b[0m\u001b[0;34m\u001b[0m\u001b[0;34m\u001b[0m\u001b[0m\n\u001b[0m\u001b[1;32m    110\u001b[0m             )\n\u001b[1;32m    111\u001b[0m             \u001b[0;32mif\u001b[0m \u001b[0;34m(\u001b[0m\u001b[0miteration\u001b[0m\u001b[0;34m+\u001b[0m\u001b[0;36m1\u001b[0m\u001b[0;34m)\u001b[0m \u001b[0;34m%\u001b[0m \u001b[0mprint_step\u001b[0m \u001b[0;34m==\u001b[0m \u001b[0;36m0\u001b[0m\u001b[0;34m:\u001b[0m\u001b[0;34m\u001b[0m\u001b[0;34m\u001b[0m\u001b[0m\n",
            "\u001b[0;32m<ipython-input-24-2929c47a2b8c>\u001b[0m in \u001b[0;36mget_reward\u001b[0;34m(weights, model, render)\u001b[0m\n\u001b[1;32m     14\u001b[0m         \u001b[0mprediction\u001b[0m \u001b[0;34m=\u001b[0m \u001b[0mcloned_model\u001b[0m\u001b[0;34m(\u001b[0m\u001b[0mVariable\u001b[0m\u001b[0;34m(\u001b[0m\u001b[0mbatch\u001b[0m\u001b[0;34m)\u001b[0m\u001b[0;34m)\u001b[0m\u001b[0;34m\u001b[0m\u001b[0;34m\u001b[0m\u001b[0m\n\u001b[1;32m     15\u001b[0m         \u001b[0maction\u001b[0m \u001b[0;34m=\u001b[0m \u001b[0mprediction\u001b[0m\u001b[0;34m.\u001b[0m\u001b[0mcpu\u001b[0m\u001b[0;34m(\u001b[0m\u001b[0;34m)\u001b[0m\u001b[0;34m.\u001b[0m\u001b[0mdata\u001b[0m\u001b[0;34m.\u001b[0m\u001b[0mnumpy\u001b[0m\u001b[0;34m(\u001b[0m\u001b[0;34m)\u001b[0m\u001b[0;34m.\u001b[0m\u001b[0margmax\u001b[0m\u001b[0;34m(\u001b[0m\u001b[0;34m)\u001b[0m\u001b[0;34m\u001b[0m\u001b[0;34m\u001b[0m\u001b[0m\n\u001b[0;32m---> 16\u001b[0;31m         \u001b[0mnew_ob\u001b[0m\u001b[0;34m,\u001b[0m \u001b[0mreward\u001b[0m\u001b[0;34m,\u001b[0m \u001b[0mdone\u001b[0m\u001b[0;34m,\u001b[0m \u001b[0m_\u001b[0m \u001b[0;34m=\u001b[0m \u001b[0menv\u001b[0m\u001b[0;34m.\u001b[0m\u001b[0mstep\u001b[0m\u001b[0;34m(\u001b[0m\u001b[0maction\u001b[0m\u001b[0;34m)\u001b[0m\u001b[0;34m\u001b[0m\u001b[0;34m\u001b[0m\u001b[0m\n\u001b[0m\u001b[1;32m     17\u001b[0m         \u001b[0mnew_ob\u001b[0m \u001b[0;34m=\u001b[0m \u001b[0menv\u001b[0m\u001b[0;34m.\u001b[0m\u001b[0munwrapped\u001b[0m\u001b[0;34m.\u001b[0m\u001b[0m_get_ram\u001b[0m\u001b[0;34m(\u001b[0m\u001b[0;34m)\u001b[0m\u001b[0;34m\u001b[0m\u001b[0;34m\u001b[0m\u001b[0m\n\u001b[1;32m     18\u001b[0m         \u001b[0mob\u001b[0m \u001b[0;34m=\u001b[0m \u001b[0mnew_ob\u001b[0m\u001b[0;34m\u001b[0m\u001b[0;34m\u001b[0m\u001b[0m\n",
            "\u001b[0;32m/usr/local/lib/python3.6/dist-packages/gym/wrappers/time_limit.py\u001b[0m in \u001b[0;36mstep\u001b[0;34m(self, action)\u001b[0m\n\u001b[1;32m     14\u001b[0m     \u001b[0;32mdef\u001b[0m \u001b[0mstep\u001b[0m\u001b[0;34m(\u001b[0m\u001b[0mself\u001b[0m\u001b[0;34m,\u001b[0m \u001b[0maction\u001b[0m\u001b[0;34m)\u001b[0m\u001b[0;34m:\u001b[0m\u001b[0;34m\u001b[0m\u001b[0;34m\u001b[0m\u001b[0m\n\u001b[1;32m     15\u001b[0m         \u001b[0;32massert\u001b[0m \u001b[0mself\u001b[0m\u001b[0;34m.\u001b[0m\u001b[0m_elapsed_steps\u001b[0m \u001b[0;32mis\u001b[0m \u001b[0;32mnot\u001b[0m \u001b[0;32mNone\u001b[0m\u001b[0;34m,\u001b[0m \u001b[0;34m\"Cannot call env.step() before calling reset()\"\u001b[0m\u001b[0;34m\u001b[0m\u001b[0;34m\u001b[0m\u001b[0m\n\u001b[0;32m---> 16\u001b[0;31m         \u001b[0mobservation\u001b[0m\u001b[0;34m,\u001b[0m \u001b[0mreward\u001b[0m\u001b[0;34m,\u001b[0m \u001b[0mdone\u001b[0m\u001b[0;34m,\u001b[0m \u001b[0minfo\u001b[0m \u001b[0;34m=\u001b[0m \u001b[0mself\u001b[0m\u001b[0;34m.\u001b[0m\u001b[0menv\u001b[0m\u001b[0;34m.\u001b[0m\u001b[0mstep\u001b[0m\u001b[0;34m(\u001b[0m\u001b[0maction\u001b[0m\u001b[0;34m)\u001b[0m\u001b[0;34m\u001b[0m\u001b[0;34m\u001b[0m\u001b[0m\n\u001b[0m\u001b[1;32m     17\u001b[0m         \u001b[0mself\u001b[0m\u001b[0;34m.\u001b[0m\u001b[0m_elapsed_steps\u001b[0m \u001b[0;34m+=\u001b[0m \u001b[0;36m1\u001b[0m\u001b[0;34m\u001b[0m\u001b[0;34m\u001b[0m\u001b[0m\n\u001b[1;32m     18\u001b[0m         \u001b[0;32mif\u001b[0m \u001b[0mself\u001b[0m\u001b[0;34m.\u001b[0m\u001b[0m_elapsed_steps\u001b[0m \u001b[0;34m>=\u001b[0m \u001b[0mself\u001b[0m\u001b[0;34m.\u001b[0m\u001b[0m_max_episode_steps\u001b[0m\u001b[0;34m:\u001b[0m\u001b[0;34m\u001b[0m\u001b[0;34m\u001b[0m\u001b[0m\n",
            "\u001b[0;32m/usr/local/lib/python3.6/dist-packages/gym/envs/atari/atari_env.py\u001b[0m in \u001b[0;36mstep\u001b[0;34m(self, a)\u001b[0m\n\u001b[1;32m    118\u001b[0m             \u001b[0mnum_steps\u001b[0m \u001b[0;34m=\u001b[0m \u001b[0mself\u001b[0m\u001b[0;34m.\u001b[0m\u001b[0mnp_random\u001b[0m\u001b[0;34m.\u001b[0m\u001b[0mrandint\u001b[0m\u001b[0;34m(\u001b[0m\u001b[0mself\u001b[0m\u001b[0;34m.\u001b[0m\u001b[0mframeskip\u001b[0m\u001b[0;34m[\u001b[0m\u001b[0;36m0\u001b[0m\u001b[0;34m]\u001b[0m\u001b[0;34m,\u001b[0m \u001b[0mself\u001b[0m\u001b[0;34m.\u001b[0m\u001b[0mframeskip\u001b[0m\u001b[0;34m[\u001b[0m\u001b[0;36m1\u001b[0m\u001b[0;34m]\u001b[0m\u001b[0;34m)\u001b[0m\u001b[0;34m\u001b[0m\u001b[0;34m\u001b[0m\u001b[0m\n\u001b[1;32m    119\u001b[0m         \u001b[0;32mfor\u001b[0m \u001b[0m_\u001b[0m \u001b[0;32min\u001b[0m \u001b[0mrange\u001b[0m\u001b[0;34m(\u001b[0m\u001b[0mnum_steps\u001b[0m\u001b[0;34m)\u001b[0m\u001b[0;34m:\u001b[0m\u001b[0;34m\u001b[0m\u001b[0;34m\u001b[0m\u001b[0m\n\u001b[0;32m--> 120\u001b[0;31m             \u001b[0mreward\u001b[0m \u001b[0;34m+=\u001b[0m \u001b[0mself\u001b[0m\u001b[0;34m.\u001b[0m\u001b[0male\u001b[0m\u001b[0;34m.\u001b[0m\u001b[0mact\u001b[0m\u001b[0;34m(\u001b[0m\u001b[0maction\u001b[0m\u001b[0;34m)\u001b[0m\u001b[0;34m\u001b[0m\u001b[0;34m\u001b[0m\u001b[0m\n\u001b[0m\u001b[1;32m    121\u001b[0m         \u001b[0mob\u001b[0m \u001b[0;34m=\u001b[0m \u001b[0mself\u001b[0m\u001b[0;34m.\u001b[0m\u001b[0m_get_obs\u001b[0m\u001b[0;34m(\u001b[0m\u001b[0;34m)\u001b[0m\u001b[0;34m\u001b[0m\u001b[0;34m\u001b[0m\u001b[0m\n\u001b[1;32m    122\u001b[0m \u001b[0;34m\u001b[0m\u001b[0m\n",
            "\u001b[0;32m/usr/local/lib/python3.6/dist-packages/atari_py/ale_python_interface.py\u001b[0m in \u001b[0;36mact\u001b[0;34m(self, action)\u001b[0m\n\u001b[1;32m    150\u001b[0m \u001b[0;34m\u001b[0m\u001b[0m\n\u001b[1;32m    151\u001b[0m     \u001b[0;32mdef\u001b[0m \u001b[0mact\u001b[0m\u001b[0;34m(\u001b[0m\u001b[0mself\u001b[0m\u001b[0;34m,\u001b[0m \u001b[0maction\u001b[0m\u001b[0;34m)\u001b[0m\u001b[0;34m:\u001b[0m\u001b[0;34m\u001b[0m\u001b[0;34m\u001b[0m\u001b[0m\n\u001b[0;32m--> 152\u001b[0;31m         \u001b[0;32mreturn\u001b[0m \u001b[0male_lib\u001b[0m\u001b[0;34m.\u001b[0m\u001b[0mact\u001b[0m\u001b[0;34m(\u001b[0m\u001b[0mself\u001b[0m\u001b[0;34m.\u001b[0m\u001b[0mobj\u001b[0m\u001b[0;34m,\u001b[0m \u001b[0mint\u001b[0m\u001b[0;34m(\u001b[0m\u001b[0maction\u001b[0m\u001b[0;34m)\u001b[0m\u001b[0;34m)\u001b[0m\u001b[0;34m\u001b[0m\u001b[0;34m\u001b[0m\u001b[0m\n\u001b[0m\u001b[1;32m    153\u001b[0m \u001b[0;34m\u001b[0m\u001b[0m\n\u001b[1;32m    154\u001b[0m     \u001b[0;32mdef\u001b[0m \u001b[0mgame_over\u001b[0m\u001b[0;34m(\u001b[0m\u001b[0mself\u001b[0m\u001b[0;34m)\u001b[0m\u001b[0;34m:\u001b[0m\u001b[0;34m\u001b[0m\u001b[0;34m\u001b[0m\u001b[0m\n",
            "\u001b[0;31mKeyboardInterrupt\u001b[0m: "
          ]
        }
      ]
    },
    {
      "cell_type": "markdown",
      "metadata": {
        "colab_type": "text",
        "id": "4BzNaawTIrul"
      },
      "source": [
        "## 6. Visualization"
      ]
    },
    {
      "cell_type": "code",
      "metadata": {
        "colab_type": "code",
        "id": "nqv_b9Ol7bMK",
        "outputId": "a7e74f18-8fdb-494e-ebdd-a27573d4a877",
        "colab": {
          "base_uri": "https://localhost:8080/",
          "height": 283
        }
      },
      "source": [
        "import seaborn as sns\n",
        "\n",
        "sns.set_style('darkgrid')\n",
        "plt.plot(avg_rewards,color='royalblue')\n",
        "plt.fill_between(np.arange(0,len(avg_rewards),1),min_rewards,max_rewards,facecolor='lightsteelblue',linewidth=0)\n",
        "\n",
        "print(end_time - start_time)"
      ],
      "execution_count": 0,
      "outputs": [
        {
          "output_type": "stream",
          "text": [
            "-165.17953300476074\n"
          ],
          "name": "stdout"
        },
        {
          "output_type": "display_data",
          "data": {
            "image/png": "[encoded data removed]",
            "text/plain": [
              "<Figure size 432x288 with 1 Axes>"
            ]
          },
          "metadata": {
            "tags": []
          }
        }
      ]
    },
    {
      "cell_type": "markdown",
      "metadata": {
        "colab_type": "text",
        "id": "NTIDQpRIIvfl"
      },
      "source": [
        "## 5. References\n",
        "\n",
        "[Karpathy's Blog](https://gist.github.com/karpathy/77fbb6a8dac5395f1b73e7a89300318d)\n",
        "\n",
        "[Evolution directed towards Exploration](https://papers.nips.cc/paper/7750-improving-exploration-in-evolution-strategies-for-deep-reinforcement-learning-via-a-population-of-novelty-seeking-agents.pdf)\n",
        "\n",
        "[A more readable version of the code in PyTorch](https://github.com/staturecrane/PyTorch-ES)\n",
        "\n",
        "[Dreamer (This paper came out a couple of days back and makes use of images to imagine 'k' states)](https://arxiv.org/pdf/1912.01603.pdf)"
      ]
    },
    {
      "cell_type": "code",
      "metadata": {
        "colab_type": "code",
        "id": "mAMFd0r-hOS3",
        "colab": {}
      },
      "source": [
        ""
      ],
      "execution_count": 0,
      "outputs": []
    }
  ]
}