{
 "cells": [
  {
   "cell_type": "code",
   "execution_count": 1,
   "metadata": {},
   "outputs": [],
   "source": [
    "import math, random, copy\n",
    "import pickle as pkl\n",
    "import gym\n",
    "import numpy as np\n",
    "\n",
    "import torch\n",
    "import torch.nn as nn\n",
    "import torch.optim as optim\n",
    "import torch.autograd as autograd \n",
    "import torch.nn.functional as F\n",
    "from IPython.display import clear_output\n",
    "import matplotlib.pyplot as plt\n",
    "%matplotlib inline\n",
    "\n",
    "USE_CUDA = torch.cuda.is_available()\n",
    "device = torch.device('cuda' if USE_CUDA else 'cpu')\n",
    "Variable = lambda *args, **kwargs: autograd.Variable(*args, **kwargs).cuda() if USE_CUDA else autograd.Variable(*args, **kwargs)"
   ]
  },
  {
   "cell_type": "code",
   "execution_count": 2,
   "metadata": {},
   "outputs": [],
   "source": [
    "from collections import deque\n",
    "\n",
    "class ReplayBuffer(object):\n",
    "    def __init__(self, capacity):\n",
    "        self.buffer = deque(maxlen=capacity)\n",
    "    \n",
    "    def push(self, state, action, reward, next_state, done):\n",
    "        state      = np.expand_dims(state, 0)\n",
    "        next_state = np.expand_dims(next_state, 0)\n",
    "            \n",
    "        self.buffer.append((state, action, reward, next_state, done))\n",
    "    \n",
    "    def sample(self, batch_size):\n",
    "        state, action, reward, next_state, done = zip(*random.sample(self.buffer, batch_size))\n",
    "        return np.concatenate(state), action, reward, np.concatenate(next_state), done\n",
    "    \n",
    "    def __len__(self):\n",
    "        return len(self.buffer)"
   ]
  },
  {
   "cell_type": "code",
   "execution_count": 3,
   "metadata": {},
   "outputs": [
    {
     "name": "stderr",
     "output_type": "stream",
     "text": [
      "K:\\Users\\Karush Suri\\Anaconda3\\lib\\site-packages\\gym\\logger.py:30: UserWarning: \u001b[33mWARN: Box bound precision lowered by casting to float32\u001b[0m\n",
      "  warnings.warn(colorize('%s: %s'%('WARN', msg % args), 'yellow'))\n"
     ]
    }
   ],
   "source": [
    "env_id = \"CartPole-v0\"\n",
    "env = gym.make(env_id)"
   ]
  },
  {
   "cell_type": "code",
   "execution_count": 4,
   "metadata": {},
   "outputs": [
    {
     "data": {
      "text/plain": [
       "[<matplotlib.lines.Line2D at 0x1e7debfde10>]"
      ]
     },
     "execution_count": 4,
     "metadata": {},
     "output_type": "execute_result"
    },
    {
     "data": {
      "image/png": "[encoded data removed]",
      "text/plain": [
       "<Figure size 432x288 with 1 Axes>"
      ]
     },
     "metadata": {
      "needs_background": "light"
     },
     "output_type": "display_data"
    }
   ],
   "source": [
    "epsilon_start = 1.0\n",
    "epsilon_final = 0.01\n",
    "epsilon_decay = 500\n",
    "\n",
    "epsilon_by_frame = lambda frame_idx: epsilon_final + (epsilon_start - epsilon_final) * math.exp(-1. * frame_idx / epsilon_decay)\n",
    "plt.plot([epsilon_by_frame(i) for i in range(10000)])"
   ]
  },
  {
   "cell_type": "code",
   "execution_count": 5,
   "metadata": {},
   "outputs": [],
   "source": [
    "class DQN(nn.Module):\n",
    "    def __init__(self, num_inputs, num_actions):\n",
    "        super(DQN, self).__init__()\n",
    "        \n",
    "        self.num_actions = num_actions\n",
    "        self.layers = nn.Sequential(\n",
    "            nn.Linear(num_inputs, 128),\n",
    "            nn.ReLU(),\n",
    "            nn.Linear(128, 128),\n",
    "            nn.ReLU(),\n",
    "            nn.Linear(128, num_actions)\n",
    "        )\n",
    "        \n",
    "    def forward(self, x):\n",
    "        return self.layers(x)\n",
    "    \n",
    "    def act(self, state, epsilon):\n",
    "        if random.random() > epsilon:\n",
    "            state   = Variable(torch.FloatTensor(state).unsqueeze(0), volatile=True)\n",
    "            q_value = self.forward(state)\n",
    "            action  = q_value.max(1)[1].data[0].item()\n",
    "        else:\n",
    "            action = random.randrange(self.num_actions)\n",
    "        return action"
   ]
  },
  {
   "cell_type": "code",
   "execution_count": 6,
   "metadata": {},
   "outputs": [],
   "source": [
    "env = gym.make('CartPole-v0')#StochasticMDP()\n",
    "learning_rate = 0.001\n",
    "model        = DQN(env.observation_space.shape[0]+1, env.action_space.n).to(device)\n",
    "teacher_model        = DQN(env.observation_space.shape[0]+1, env.action_space.n).to(device)\n",
    "optimizer      = optim.Adam(model.parameters(),lr=learning_rate)\n",
    "teacher_optimizer      = optim.Adam(model.parameters(),lr=learning_rate)\n",
    "\n",
    "replay_buffer      = ReplayBuffer(1000)\n",
    "teacher_replay_buffer      = ReplayBuffer(1000)\n",
    "\n",
    "load_model = False\n",
    "if load_model==True:\n",
    "    model_checkpoint = torch.load('./Checkpoint/model.pth.tar', map_location=device) \n",
    "    model.load_state_dict(model_checkpoint['model_state_dict'])\n",
    "    optimizer.load_state_dict(model_checkpoint['optimizer_state_dict'])\n",
    "    loss = model_checkpoint['loss']\n",
    "\n",
    "load_teacher_model = False\n",
    "if load_teacher_model==True:\n",
    "    teacher_model_checkpoint = torch.load('./Checkpoint/teacher_model.pth.tar', map_location=device) \n",
    "    teacher_model.load_state_dict(teacher_model_checkpoint['model_state_dict'])\n",
    "    teacher_optimizer.load_state_dict(teacher_model_checkpoint['optimizer_state_dict'])\n",
    "    teacher_loss = model_checkpoint['loss']"
   ]
  },
  {
   "cell_type": "code",
   "execution_count": 7,
   "metadata": {},
   "outputs": [],
   "source": [
    "def update(batch_size):\n",
    "    teacher_state, teacher_action, teacher_reward, teacher_next_state, teacher_done = teacher_replay_buffer.sample(batch_size)\n",
    "    state, action, reward, next_state, done = replay_buffer.sample(batch_size)\n",
    "    \n",
    "    state      = Variable(torch.FloatTensor(state))\n",
    "    next_state = Variable(torch.FloatTensor(next_state), volatile=True)\n",
    "    action     = Variable(torch.LongTensor(action))\n",
    "    reward     = Variable(torch.FloatTensor(reward))\n",
    "    done       = Variable(torch.FloatTensor(done))\n",
    "\n",
    "    teacher_state      = Variable(torch.FloatTensor(teacher_state))\n",
    "    teacher_next_state = Variable(torch.FloatTensor(teacher_next_state), volatile=True)\n",
    "    teacher_action     = Variable(torch.LongTensor(teacher_action))\n",
    "    teacher_reward     = Variable(torch.FloatTensor(teacher_reward))\n",
    "    teacher_done       = Variable(torch.FloatTensor(teacher_done))\n",
    "    \n",
    "    #Model update\n",
    "    q_value = model(state)\n",
    "    q_value = q_value.gather(1, action.unsqueeze(1)).squeeze(1)    \n",
    "    teacher_q_value = teacher_model(teacher_state)\n",
    "    teacher_q_value = teacher_q_value.gather(1, teacher_action.unsqueeze(1)).squeeze(1)\n",
    "    expected_q_value = reward + 0.99 * teacher_q_value * (1 - done)\n",
    "#     loss = (reward - teacher_prim_reward).pow(2).mean()\n",
    "    loss = (q_value - Variable(expected_q_value.data)).pow(2).mean()\n",
    "    optimizer.zero_grad()\n",
    "    loss.backward()\n",
    "    optimizer.step()\n",
    "\n",
    "    #Teacher update\n",
    "    next_q_value     = teacher_model(teacher_next_state).max(1)[0]\n",
    "    expected_q_value = teacher_reward + 0.99 * next_q_value * (1 - teacher_done)\n",
    "    teacher_loss = (teacher_q_value - Variable(expected_q_value.data)).pow(2).mean()\n",
    "    teacher_optimizer.zero_grad()\n",
    "    teacher_loss.backward()\n",
    "    teacher_optimizer.step()\n",
    "    \n",
    "    return loss,teacher_loss"
   ]
  },
  {
   "cell_type": "code",
   "execution_count": 8,
   "metadata": {},
   "outputs": [
    {
     "name": "stdout",
     "output_type": "stream",
     "text": [
      "(4,)\n"
     ]
    },
    {
     "name": "stderr",
     "output_type": "stream",
     "text": [
      "K:\\Users\\Karush Suri\\Anaconda3\\lib\\site-packages\\ipykernel_launcher.py:17: UserWarning: volatile was removed and now has no effect. Use `with torch.no_grad():` instead.\n",
      "K:\\Users\\Karush Suri\\Anaconda3\\lib\\site-packages\\gym\\logger.py:30: UserWarning: \u001b[33mWARN: You are calling 'step()' even though this environment has already returned done = True. You should always call 'reset()' once you receive 'done = True' -- any further steps are undefined behavior.\u001b[0m\n",
      "  warnings.warn(colorize('%s: %s'%('WARN', msg % args), 'yellow'))\n"
     ]
    },
    {
     "name": "stdout",
     "output_type": "stream",
     "text": [
      "Step- 1000 / 10000 |Episode Reward- 18.400000000000002 |Loss- 0.007674108259379864\n",
      "Teacher Episode Reward- 16.0 Teacher Loss- 1.0151376724243164\n",
      "Step- 2000 / 10000 |Episode Reward- 13.199999999999998 |Loss- 0.006490730680525303\n",
      "Teacher Episode Reward- 11.0 Teacher Loss- 1.0469878911972046\n",
      "Step- 3000 / 10000 |Episode Reward- 13.199999999999998 |Loss- 0.0037146557588130236\n",
      "Teacher Episode Reward- 11.0 Teacher Loss- 0.966090202331543\n",
      "Step- 4000 / 10000 |Episode Reward- 12.099999999999998 |Loss- 0.004584948997944593\n",
      "Teacher Episode Reward- 10.0 Teacher Loss- 0.9896267652511597\n",
      "Step- 5000 / 10000 |Episode Reward- 12.099999999999998 |Loss- 0.003925340250134468\n",
      "Teacher Episode Reward- 10.0 Teacher Loss- 0.9431926012039185\n",
      "Step- 6000 / 10000 |Episode Reward- 12.099999999999998 |Loss- 0.004539789631962776\n",
      "Teacher Episode Reward- 10.0 Teacher Loss- 0.918748140335083\n",
      "Step- 7000 / 10000 |Episode Reward- 13.199999999999998 |Loss- 0.0021398132666945457\n",
      "Teacher Episode Reward- 11.0 Teacher Loss- 0.8970999717712402\n",
      "Step- 8000 / 10000 |Episode Reward- 12.099999999999998 |Loss- 0.0039023528806865215\n",
      "Teacher Episode Reward- 10.0 Teacher Loss- 1.0219310522079468\n",
      "Step- 9000 / 10000 |Episode Reward- 12.099999999999998 |Loss- 0.006065713707357645\n",
      "Teacher Episode Reward- 10.0 Teacher Loss- 0.9010581374168396\n",
      "Step- 10000 / 10000 |Episode Reward- 13.199999999999998 |Loss- 0.004515749868005514\n",
      "Teacher Episode Reward- 11.0 Teacher Loss- 0.909355640411377\n"
     ]
    }
   ],
   "source": [
    "num_frames = 10000\n",
    "batch_size = 32\n",
    "gamma      = 0.99\n",
    "\n",
    "losses = []\n",
    "all_rewards = []\n",
    "avg_rewards = []\n",
    "episode_reward = 0\n",
    "avg_reward = 0\n",
    "\n",
    "teacher_losses = []\n",
    "teacher_all_rewards = []\n",
    "teacher_avg_rewards = []\n",
    "teacher_episode_reward = 0\n",
    "teacher_avg_reward = 0\n",
    "\n",
    "state_rewards = []\n",
    "teacher_reward = 0\n",
    "teacher_action = 1\n",
    "next_state = env.reset()\n",
    "# state = process_atari(state)\n",
    "print(next_state.shape)\n",
    "for frame_idx in range(1, num_frames + 1):\n",
    "#     env_teacher = copy.deepcopy(env)\n",
    "    epsilon = epsilon_by_frame(frame_idx)\n",
    "    state = np.concatenate((next_state,np.array([teacher_action])),0)\n",
    "    \n",
    "    action = model.act(state, epsilon)\n",
    "    next_state, reward, done, _ = env.step(action)\n",
    "    state_rewards.append(reward)\n",
    "    if (action==teacher_action):\n",
    "        reward += 0.1*abs(reward)\n",
    "    \n",
    "    env_teacher = copy.deepcopy(env)\n",
    "    teacher_state = np.concatenate((next_state,np.array([action])),0)\n",
    "    teacher_action = teacher_model.act(state, epsilon)\n",
    "    teacher_next_state, teacher_reward, teacher_done, _ = env_teacher.step(teacher_action)\n",
    "#     if (reward>state_rewards[-1]):\n",
    "#         teacher_reward += 0.2*teacher_reward\n",
    "    \n",
    "    #Auxilary step for teacher's next-state update\n",
    "    aux_state = np.concatenate((teacher_next_state,np.array([teacher_action])),0)\n",
    "    aux_action = model.act(aux_state, epsilon)\n",
    "    aux_next_state, aux_reward, aux_done, _ = env_teacher.step(aux_action)\n",
    "    teacher_next_state = np.concatenate((aux_next_state,np.array([aux_action])),0)\n",
    "    \n",
    "    teacher_replay_buffer.push(teacher_state, teacher_action, teacher_reward, teacher_next_state, teacher_done)\n",
    "    replay_buffer.push(state, action, reward, next_state, done)\n",
    "#     state = np.concatenate((state[1:,:,:],next_state),0)\n",
    "    episode_reward += reward\n",
    "    teacher_episode_reward += teacher_reward\n",
    "    \n",
    "    # if frame_idx in range(15000,20000):\n",
    "    #   imsave(checkpoint_name+'/Frames/'+str(frame_idx)+'.png',next_state[0,:,:])\n",
    "\n",
    "    if done:\n",
    "        next_state = env.reset()\n",
    "#         state = process_atari(state)\n",
    "        all_rewards.append(episode_reward)\n",
    "        avg_rewards.append(avg_reward)\n",
    "        episode_reward = 0\n",
    "        teacher_all_rewards.append(teacher_episode_reward)\n",
    "        teacher_avg_rewards.append(teacher_avg_reward)\n",
    "        teacher_episode_reward = 0\n",
    "        teacher_reward = 0\n",
    "        teacher_action = 1\n",
    "\n",
    "        \n",
    "    if len(replay_buffer) > batch_size:\n",
    "        loss,teacher_loss = update(batch_size)\n",
    "        loss = loss.item()\n",
    "        losses.append(loss)\n",
    "        teacher_loss = teacher_loss.item()\n",
    "        teacher_losses.append(teacher_loss)\n",
    "                \n",
    "    if frame_idx % 1000 == 0:\n",
    "        avg_reward = np.mean(all_rewards[-1000:])\n",
    "        teacher_avg_reward = np.mean(teacher_all_rewards[-1000:])\n",
    "        print('Step-',frame_idx,'/',num_frames,'|Episode Reward-',all_rewards[-1],'|Loss-',loss)\n",
    "        print('Teacher Episode Reward-',teacher_all_rewards[-1],'Teacher Loss-',teacher_loss)\n",
    "        torch.save({'model_state_dict': model.state_dict(), 'optimizer_state_dict': optimizer.state_dict(), 'loss': loss},\n",
    "                   './Checkpoint/model.pth.tar')\n",
    "        torch.save({'model_state_dict': teacher_model.state_dict(), 'optimizer_state_dict': teacher_optimizer.state_dict(),\n",
    "                    'loss': teacher_loss},'./Checkpoint/teacher_model.pth.tar')\n",
    "        # plt.plot(all_rewards)\n",
    "\n",
    "data_save = {}\n",
    "data_save['loss'] = losses\n",
    "data_save['reward'] = all_rewards\n",
    "data_save['avg_reward'] = avg_rewards\n",
    "\n",
    "teacher_data_save = {}\n",
    "teacher_data_save['loss'] = teacher_losses\n",
    "teacher_data_save['reward'] = teacher_all_rewards\n",
    "teacher_data_save['avg_reward'] = teacher_avg_rewards\n",
    "\n",
    "with open('./Checkpoint/data_save.pkl', 'wb') as f: #data+same as frame folder\n",
    "    pkl.dump(data_save, f)\n",
    "\n",
    "with open('./Checkpoint/teacher_data_save.pkl', 'wb') as f: #data+same as frame folder\n",
    "    pkl.dump(teacher_data_save, f)\n"
   ]
  },
  {
   "cell_type": "code",
   "execution_count": 11,
   "metadata": {},
   "outputs": [
    {
     "data": {
      "text/plain": [
       "[<matplotlib.lines.Line2D at 0x1e7deb9b240>]"
      ]
     },
     "execution_count": 11,
     "metadata": {},
     "output_type": "execute_result"
    },
    {
     "data": {
      "image/png": "[encoded data removed]",
      "text/plain": [
       "<Figure size 432x288 with 1 Axes>"
      ]
     },
     "metadata": {
      "needs_background": "light"
     },
     "output_type": "display_data"
    },
    {
     "data": {
      "image/png": "[encoded data removed]",
      "text/plain": [
       "<Figure size 432x288 with 1 Axes>"
      ]
     },
     "metadata": {
      "needs_background": "light"
     },
     "output_type": "display_data"
    }
   ],
   "source": [
    "# Results for Model\n",
    "plt.figure()\n",
    "plt.plot(avg_rewards)\n",
    "\n",
    "plt.figure()\n",
    "plt.plot(losses)"
   ]
  },
  {
   "cell_type": "code",
   "execution_count": 12,
   "metadata": {},
   "outputs": [
    {
     "data": {
      "text/plain": [
       "[<matplotlib.lines.Line2D at 0x1e7dff77c50>]"
      ]
     },
     "execution_count": 12,
     "metadata": {},
     "output_type": "execute_result"
    },
    {
     "data": {
      "image/png": "[encoded data removed]",
      "text/plain": [
       "<Figure size 432x288 with 1 Axes>"
      ]
     },
     "metadata": {
      "needs_background": "light"
     },
     "output_type": "display_data"
    },
    {
     "data": {
      "image/png": "[encoded data removed]",
      "text/plain": [
       "<Figure size 432x288 with 1 Axes>"
      ]
     },
     "metadata": {
      "needs_background": "light"
     },
     "output_type": "display_data"
    }
   ],
   "source": [
    "# Results for Teacher\n",
    "plt.figure()\n",
    "plt.plot(teacher_avg_rewards)\n",
    "\n",
    "plt.figure()\n",
    "plt.plot(teacher_losses)\n"
   ]
  },
  {
   "cell_type": "code",
   "execution_count": null,
   "metadata": {},
   "outputs": [],
   "source": []
  }
 ],
 "metadata": {
  "kernelspec": {
   "display_name": "Python 3",
   "language": "python",
   "name": "python3"
  },
  "language_info": {
   "codemirror_mode": {
    "name": "ipython",
    "version": 3
   },
   "file_extension": ".py",
   "mimetype": "text/x-python",
   "name": "python",
   "nbconvert_exporter": "python",
   "pygments_lexer": "ipython3",
   "version": "3.7.3"
  }
 },
 "nbformat": 4,
 "nbformat_minor": 2
}
