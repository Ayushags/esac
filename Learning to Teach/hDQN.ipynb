{
 "cells": [
  {
   "cell_type": "code",
   "execution_count": 1,
   "metadata": {},
   "outputs": [],
   "source": [
    "import math\n",
    "import random\n",
    "from collections import namedtuple, deque\n",
    "\n",
    "import gym\n",
    "import numpy as np\n",
    "\n",
    "import torch\n",
    "import torch.nn as nn\n",
    "import torch.optim as optim\n",
    "import torch.nn.functional as F\n",
    "import torch.autograd as autograd\n",
    "import matplotlib.pyplot as plt\n",
    "\n",
    "USE_CUDA = torch.cuda.is_available()\n",
    "Variable = lambda *args, **kwargs: autograd.Variable(*args, **kwargs).cuda() if USE_CUDA else autograd.Variable(*args, **kwargs)"
   ]
  },
  {
   "cell_type": "code",
   "execution_count": 2,
   "metadata": {},
   "outputs": [],
   "source": [
    "class StochasticMDP:\n",
    "    def __init__(self):\n",
    "        self.end           = False\n",
    "        self.current_state = 2\n",
    "        self.num_actions   = 2\n",
    "        self.num_states    = 6\n",
    "        self.p_right       = 0.5\n",
    "\n",
    "    def reset(self):\n",
    "        self.end = False\n",
    "        self.current_state = 2\n",
    "        state = np.zeros(self.num_states)\n",
    "        state[self.current_state - 1] = 1.\n",
    "        return state\n",
    "\n",
    "    def step(self, action):\n",
    "        if self.current_state != 1:\n",
    "            if action == 1:\n",
    "                if random.random() < self.p_right and self.current_state < self.num_states:\n",
    "                    self.current_state += 1\n",
    "                else:\n",
    "                    self.current_state -= 1\n",
    "                    \n",
    "            if action == 0:\n",
    "                self.current_state -= 1\n",
    "                \n",
    "            if self.current_state == self.num_states:\n",
    "                self.end = True\n",
    "        \n",
    "        state = np.zeros(self.num_states)\n",
    "        state[self.current_state - 1] = 1.\n",
    "        \n",
    "        if self.current_state == 1:\n",
    "            if self.end:\n",
    "                return state, 1.00, True, {}\n",
    "            else:\n",
    "                return state, 1.00/100.00, True, {}\n",
    "        else:\n",
    "            return state, 0.0, False, {}"
   ]
  },
  {
   "cell_type": "code",
   "execution_count": 6,
   "metadata": {},
   "outputs": [],
   "source": [
    "class ReplayBuffer(object):\n",
    "    def __init__(self, capacity):\n",
    "        self.capacity = capacity\n",
    "        self.buffer   = deque(maxlen=capacity)\n",
    "    \n",
    "    def push(self, state, action, reward, next_state, done):\n",
    "        state      = np.expand_dims(state, 0)\n",
    "        next_state = np.expand_dims(next_state, 0)\n",
    "        self.buffer.append((state, action, reward, next_state, done))\n",
    "    \n",
    "    def sample(self, batch_size):\n",
    "        state, action, reward, next_state, done = zip(*random.sample(self.buffer, batch_size))\n",
    "        return np.concatenate(state), action, reward, np.concatenate(next_state), done\n",
    "    \n",
    "    def __len__(self):\n",
    "        return len(self.buffer)"
   ]
  },
  {
   "cell_type": "code",
   "execution_count": 3,
   "metadata": {},
   "outputs": [],
   "source": [
    "class Net(nn.Module):\n",
    "    def __init__(self, num_inputs, num_outputs):\n",
    "        super(Net, self).__init__()\n",
    "        \n",
    "        self.layers = nn.Sequential(\n",
    "            nn.Linear(num_inputs, 256),\n",
    "            nn.ReLU(),\n",
    "            nn.Linear(256, num_outputs)\n",
    "        )\n",
    "    \n",
    "    def forward(self, x):\n",
    "        return self.layers(x)\n",
    "    \n",
    "    def act(self, state, epsilon):\n",
    "        if random.random() > epsilon:\n",
    "            state  = torch.FloatTensor(state).unsqueeze(0)\n",
    "            action = self.forward(Variable(state, volatile=True)).max(1)[1]\n",
    "            return action.data[0]\n",
    "        else:\n",
    "            return random.randrange(num_actions)"
   ]
  },
  {
   "cell_type": "code",
   "execution_count": 9,
   "metadata": {},
   "outputs": [],
   "source": [
    "env = StochasticMDP()\n",
    "num_goals    = env.num_states\n",
    "num_actions  = env.num_actions\n",
    "\n",
    "model        = Net(2*num_goals, num_actions)\n",
    "target_model = Net(2*num_goals, num_actions)\n",
    "\n",
    "meta_model        = Net(num_goals, num_goals)\n",
    "target_meta_model = Net(num_goals, num_goals)\n",
    "\n",
    "if USE_CUDA:\n",
    "    model             = model.cuda()\n",
    "    target_model      = target_model.cuda()\n",
    "    meta_model        = meta_model.cuda()\n",
    "    target_meta_model = target_meta_model.cuda()\n",
    "\n",
    "optimizer      = optim.Adam(model.parameters())\n",
    "meta_optimizer = optim.Adam(meta_model.parameters())\n",
    "\n",
    "replay_buffer      = ReplayBuffer(10000)\n",
    "meta_replay_buffer = ReplayBuffer(10000)"
   ]
  },
  {
   "cell_type": "code",
   "execution_count": 10,
   "metadata": {},
   "outputs": [],
   "source": [
    "def to_onehot(x):\n",
    "    oh = np.zeros(6)\n",
    "    oh[x - 1] = 1.\n",
    "    return oh\n",
    "\n",
    "def update(model, optimizer, replay_buffer, batch_size):\n",
    "    if batch_size > len(replay_buffer):\n",
    "        return\n",
    "    state, action, reward, next_state, done = replay_buffer.sample(batch_size)\n",
    "    \n",
    "    state      = Variable(torch.FloatTensor(state))\n",
    "    next_state = Variable(torch.FloatTensor(next_state), volatile=True)\n",
    "    action     = Variable(torch.LongTensor(action))\n",
    "    reward     = Variable(torch.FloatTensor(reward))\n",
    "    done       = Variable(torch.FloatTensor(done))\n",
    "    \n",
    "    q_value = model(state)\n",
    "    q_value = q_value.gather(1, action.unsqueeze(1)).squeeze(1)\n",
    "    \n",
    "    next_q_value     = model(next_state).max(1)[0]\n",
    "    expected_q_value = reward + 0.99 * next_q_value * (1 - done)\n",
    "   \n",
    "    loss = (q_value - Variable(expected_q_value.data)).pow(2).mean()\n",
    "    \n",
    "    optimizer.zero_grad()\n",
    "    loss.backward()\n",
    "    optimizer.step()\n",
    "    return loss.detach().cpu().numpy()"
   ]
  },
  {
   "cell_type": "code",
   "execution_count": 12,
   "metadata": {},
   "outputs": [
    {
     "data": {
      "text/plain": [
       "[<matplotlib.lines.Line2D at 0x17ef852da58>]"
      ]
     },
     "execution_count": 12,
     "metadata": {},
     "output_type": "execute_result"
    },
    {
     "data": {
      "image/png": "[encoded data removed]",
      "text/plain": [
       "<Figure size 432x288 with 1 Axes>"
      ]
     },
     "metadata": {
      "needs_background": "light"
     },
     "output_type": "display_data"
    }
   ],
   "source": [
    "epsilon_start = 1.0\n",
    "epsilon_final = 0.01\n",
    "epsilon_decay = 500\n",
    "\n",
    "epsilon_by_frame = lambda frame_idx: epsilon_final + (epsilon_start - epsilon_final) * math.exp(-1. * frame_idx / epsilon_decay)\n",
    "plt.figure()\n",
    "plt.plot([epsilon_by_frame(i) for i in range(100000)])"
   ]
  },
  {
   "cell_type": "code",
   "execution_count": 15,
   "metadata": {},
   "outputs": [
    {
     "name": "stdout",
     "output_type": "stream",
     "text": [
      "(6,)\n"
     ]
    },
    {
     "name": "stderr",
     "output_type": "stream",
     "text": [
      "K:\\Users\\Karush Suri\\Anaconda3\\lib\\site-packages\\ipykernel_launcher.py:16: UserWarning: volatile was removed and now has no effect. Use `with torch.no_grad():` instead.\n",
      "  app.launch_new_instance()\n"
     ]
    },
    {
     "name": "stdout",
     "output_type": "stream",
     "text": [
      "Step- 1000 / 100000 | Loss- 0.09946685 | Reward- 0.01\n",
      "Step- 2000 / 100000 | Loss- 0.059294783 | Reward- 0.0\n",
      "Step- 3000 / 100000 | Loss- 0.05081391 | Reward- 0.01\n",
      "Step- 4000 / 100000 | Loss- 0.04464238 | Reward- 0.01\n",
      "Step- 5000 / 100000 | Loss- 0.07054983 | Reward- 0.0\n",
      "Step- 6000 / 100000 | Loss- 0.0952085 | Reward- 0.0\n",
      "Step- 7000 / 100000 | Loss- 0.07500065 | Reward- 0.0\n",
      "Step- 8000 / 100000 | Loss- 0.09040792 | Reward- 0.01\n",
      "Step- 9000 / 100000 | Loss- 0.13388234 | Reward- 0.0\n",
      "Step- 10000 / 100000 | Loss- 0.15049233 | Reward- 0.01\n",
      "Step- 11000 / 100000 | Loss- 0.1532603 | Reward- 0.0\n",
      "Step- 12000 / 100000 | Loss- 0.10369633 | Reward- 0.0\n",
      "Step- 13000 / 100000 | Loss- 0.024184747 | Reward- 0.01\n",
      "Step- 14000 / 100000 | Loss- 0.032284737 | Reward- 0.0\n",
      "Step- 15000 / 100000 | Loss- 0.05917393 | Reward- 0.0\n",
      "Step- 16000 / 100000 | Loss- 0.04309781 | Reward- 0.0\n",
      "Step- 17000 / 100000 | Loss- 0.04676676 | Reward- 0.0\n",
      "Step- 18000 / 100000 | Loss- 0.06658832 | Reward- 0.0\n",
      "Step- 19000 / 100000 | Loss- 0.054604616 | Reward- 0.0\n",
      "Step- 20000 / 100000 | Loss- 0.08344875 | Reward- 0.0\n",
      "Step- 21000 / 100000 | Loss- 0.08651381 | Reward- 0.0\n",
      "Step- 22000 / 100000 | Loss- 0.07412854 | Reward- 0.0\n",
      "Step- 23000 / 100000 | Loss- 0.06672019 | Reward- 0.0\n",
      "Step- 24000 / 100000 | Loss- 0.054683626 | Reward- 0.0\n",
      "Step- 25000 / 100000 | Loss- 0.0834188 | Reward- 1.0\n",
      "Step- 26000 / 100000 | Loss- 0.09366073 | Reward- 0.0\n",
      "Step- 27000 / 100000 | Loss- 0.07658804 | Reward- 0.0\n",
      "Step- 28000 / 100000 | Loss- 0.07394389 | Reward- 0.0\n",
      "Step- 29000 / 100000 | Loss- 0.071895 | Reward- 0.0\n",
      "Step- 30000 / 100000 | Loss- 0.088783085 | Reward- 0.0\n",
      "Step- 31000 / 100000 | Loss- 0.07672496 | Reward- 0.0\n",
      "Step- 32000 / 100000 | Loss- 0.08045421 | Reward- 0.0\n",
      "Step- 33000 / 100000 | Loss- 0.09261085 | Reward- 0.01\n",
      "Step- 34000 / 100000 | Loss- 0.10133551 | Reward- 0.0\n",
      "Step- 35000 / 100000 | Loss- 0.07000332 | Reward- 0.01\n",
      "Step- 36000 / 100000 | Loss- 0.088873446 | Reward- 0.0\n",
      "Step- 37000 / 100000 | Loss- 0.07299011 | Reward- 0.01\n",
      "Step- 38000 / 100000 | Loss- 0.067666605 | Reward- 1.0\n",
      "Step- 39000 / 100000 | Loss- 0.071467385 | Reward- 0.0\n",
      "Step- 40000 / 100000 | Loss- 0.0594946 | Reward- 0.0\n",
      "Step- 41000 / 100000 | Loss- 0.07999994 | Reward- 0.0\n",
      "Step- 42000 / 100000 | Loss- 0.09360726 | Reward- 1.0\n",
      "Step- 43000 / 100000 | Loss- 0.09960036 | Reward- 0.0\n",
      "Step- 44000 / 100000 | Loss- 0.11660923 | Reward- 0.0\n",
      "Step- 45000 / 100000 | Loss- 0.0910517 | Reward- 0.0\n",
      "Step- 46000 / 100000 | Loss- 0.06572595 | Reward- 0.0\n",
      "Step- 47000 / 100000 | Loss- 0.07872201 | Reward- 0.0\n",
      "Step- 48000 / 100000 | Loss- 0.10635788 | Reward- 0.0\n",
      "Step- 49000 / 100000 | Loss- 0.080741 | Reward- 0.0\n",
      "Step- 50000 / 100000 | Loss- 0.102801085 | Reward- 0.0\n",
      "Step- 51000 / 100000 | Loss- 0.11145866 | Reward- 0.0\n",
      "Step- 52000 / 100000 | Loss- 0.074164875 | Reward- 0.0\n",
      "Step- 53000 / 100000 | Loss- 0.07906997 | Reward- 0.0\n",
      "Step- 54000 / 100000 | Loss- 0.094037466 | Reward- 0.0\n",
      "Step- 55000 / 100000 | Loss- 0.086266994 | Reward- 0.01\n",
      "Step- 56000 / 100000 | Loss- 0.09412581 | Reward- 0.0\n",
      "Step- 57000 / 100000 | Loss- 0.092759304 | Reward- 1.0\n",
      "Step- 58000 / 100000 | Loss- 0.10313281 | Reward- 0.0\n",
      "Step- 59000 / 100000 | Loss- 0.09507035 | Reward- 0.01\n",
      "Step- 60000 / 100000 | Loss- 0.11643982 | Reward- 0.0\n",
      "Step- 61000 / 100000 | Loss- 0.08681463 | Reward- 0.0\n",
      "Step- 62000 / 100000 | Loss- 0.09888958 | Reward- 0.01\n",
      "Step- 63000 / 100000 | Loss- 0.111145854 | Reward- 0.01\n",
      "Step- 64000 / 100000 | Loss- 0.1322685 | Reward- 0.0\n",
      "Step- 65000 / 100000 | Loss- 0.114849396 | Reward- 0.0\n",
      "Step- 66000 / 100000 | Loss- 0.10497833 | Reward- 0.0\n",
      "Step- 67000 / 100000 | Loss- 0.0852539 | Reward- 0.01\n",
      "Step- 68000 / 100000 | Loss- 0.110446006 | Reward- 0.0\n",
      "Step- 69000 / 100000 | Loss- 0.1197462 | Reward- 0.0\n",
      "Step- 70000 / 100000 | Loss- 0.09786104 | Reward- 0.01\n",
      "Step- 71000 / 100000 | Loss- 0.06707464 | Reward- 0.0\n",
      "Step- 72000 / 100000 | Loss- 0.10424566 | Reward- 0.0\n",
      "Step- 73000 / 100000 | Loss- 0.101679616 | Reward- 0.0\n",
      "Step- 74000 / 100000 | Loss- 0.09963391 | Reward- 0.0\n",
      "Step- 75000 / 100000 | Loss- 0.11808184 | Reward- 0.0\n",
      "Step- 76000 / 100000 | Loss- 0.11409096 | Reward- 0.0\n",
      "Step- 77000 / 100000 | Loss- 0.12523298 | Reward- 0.0\n",
      "Step- 78000 / 100000 | Loss- 0.12369289 | Reward- 0.0\n",
      "Step- 79000 / 100000 | Loss- 0.12251072 | Reward- 0.0\n",
      "Step- 80000 / 100000 | Loss- 0.10378425 | Reward- 0.0\n",
      "Step- 81000 / 100000 | Loss- 0.13187471 | Reward- 0.0\n",
      "Step- 82000 / 100000 | Loss- 0.12740536 | Reward- 0.0\n",
      "Step- 83000 / 100000 | Loss- 0.11726752 | Reward- 0.01\n",
      "Step- 84000 / 100000 | Loss- 0.13928965 | Reward- 0.0\n",
      "Step- 85000 / 100000 | Loss- 0.13737786 | Reward- 0.01\n",
      "Step- 86000 / 100000 | Loss- 0.11787087 | Reward- 0.0\n",
      "Step- 87000 / 100000 | Loss- 0.094254024 | Reward- 0.0\n",
      "Step- 88000 / 100000 | Loss- 0.11842958 | Reward- 0.0\n",
      "Step- 89000 / 100000 | Loss- 0.13163793 | Reward- 1.0\n",
      "Step- 90000 / 100000 | Loss- 0.1392825 | Reward- 0.0\n",
      "Step- 91000 / 100000 | Loss- 0.1032507 | Reward- 0.0\n",
      "Step- 92000 / 100000 | Loss- 0.09491811 | Reward- 1.0\n",
      "Step- 93000 / 100000 | Loss- 0.10900617 | Reward- 0.0\n",
      "Step- 94000 / 100000 | Loss- 0.11496499 | Reward- 0.0\n",
      "Step- 95000 / 100000 | Loss- 0.1277243 | Reward- 0.0\n",
      "Step- 96000 / 100000 | Loss- 0.13144912 | Reward- 0.01\n",
      "Step- 97000 / 100000 | Loss- 0.11195437 | Reward- 0.0\n",
      "Step- 98000 / 100000 | Loss- 0.12844408 | Reward- 0.0\n",
      "Step- 99000 / 100000 | Loss- 0.12602189 | Reward- 0.0\n",
      "Step- 100000 / 100000 | Loss- 0.11558609 | Reward- 0.0\n"
     ]
    }
   ],
   "source": [
    "num_frames = 100000\n",
    "frame_idx  = 1\n",
    "\n",
    "state = env.reset()\n",
    "print(state.shape)\n",
    "done = False\n",
    "all_rewards = []\n",
    "avg_rewards = []\n",
    "model_losses = []\n",
    "meta_losses = []\n",
    "episode_reward = 0\n",
    "avg_reward = 0\n",
    "\n",
    "while frame_idx < num_frames:\n",
    "    goal = meta_model.act(state, epsilon_by_frame(frame_idx))\n",
    "    onehot_goal  = to_onehot(goal)\n",
    "    \n",
    "    meta_state = state\n",
    "    extrinsic_reward = 0\n",
    "    \n",
    "    while not done and goal != np.argmax(state):\n",
    "        goal_state  = np.concatenate([state, onehot_goal])\n",
    "        action = model.act(goal_state, epsilon_by_frame(frame_idx))\n",
    "        next_state, reward, done, _ = env.step(action)\n",
    "\n",
    "        episode_reward   += reward\n",
    "        extrinsic_reward += reward\n",
    "        intrinsic_reward = 1.0 if goal == np.argmax(next_state) else 0.0\n",
    "\n",
    "        replay_buffer.push(goal_state, action, intrinsic_reward, np.concatenate([next_state, onehot_goal]), done)\n",
    "        state = next_state\n",
    "        \n",
    "        model_loss = update(model, optimizer, replay_buffer, 32)\n",
    "        meta_loss = update(meta_model, meta_optimizer, meta_replay_buffer, 32)\n",
    "        frame_idx += 1\n",
    "        \n",
    "        if frame_idx % 1000 == 0:\n",
    "            avg_reward = np.mean(all_rewards[-1000:])\n",
    "            print('Step-',frame_idx,'/',num_frames,'|','Loss-',model_loss,'|','Reward-',extrinsic_reward)\n",
    "            \n",
    "    meta_replay_buffer.push(meta_state, goal, extrinsic_reward, state, done)\n",
    "        \n",
    "    if done:\n",
    "        state = env.reset()\n",
    "        done  = False\n",
    "        all_rewards.append(episode_reward)\n",
    "        avg_rewards.append(avg_reward)\n",
    "        model_losses.append(model_loss)\n",
    "        meta_losses.append(meta_loss)\n",
    "        episode_reward = 0"
   ]
  },
  {
   "cell_type": "code",
   "execution_count": 16,
   "metadata": {},
   "outputs": [
    {
     "data": {
      "text/plain": [
       "[<matplotlib.lines.Line2D at 0x17eff7d5cc0>]"
      ]
     },
     "execution_count": 16,
     "metadata": {},
     "output_type": "execute_result"
    },
    {
     "data": {
      "image/png": "[encoded data removed]",
      "text/plain": [
       "<Figure size 432x288 with 1 Axes>"
      ]
     },
     "metadata": {
      "needs_background": "light"
     },
     "output_type": "display_data"
    },
    {
     "data": {
      "image/png": "[encoded data removed]",
      "text/plain": [
       "<Figure size 432x288 with 1 Axes>"
      ]
     },
     "metadata": {
      "needs_background": "light"
     },
     "output_type": "display_data"
    }
   ],
   "source": [
    "plt.figure()\n",
    "plt.plot(avg_rewards)\n",
    "plt.figure()\n",
    "plt.plot(model_losses)"
   ]
  },
  {
   "cell_type": "code",
   "execution_count": null,
   "metadata": {},
   "outputs": [],
   "source": []
  }
 ],
 "metadata": {
  "kernelspec": {
   "display_name": "Python 3",
   "language": "python",
   "name": "python3"
  },
  "language_info": {
   "codemirror_mode": {
    "name": "ipython",
    "version": 3
   },
   "file_extension": ".py",
   "mimetype": "text/x-python",
   "name": "python",
   "nbconvert_exporter": "python",
   "pygments_lexer": "ipython3",
   "version": "3.7.3"
  }
 },
 "nbformat": 4,
 "nbformat_minor": 2
}
